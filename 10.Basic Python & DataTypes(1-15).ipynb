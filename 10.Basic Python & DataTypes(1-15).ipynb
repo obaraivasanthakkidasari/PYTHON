{
 "cells": [
  {
   "cell_type": "markdown",
   "id": "74f9e0b6",
   "metadata": {},
   "source": [
    "# Basic Python & Data Types"
   ]
  },
  {
   "cell_type": "code",
   "execution_count": 4,
   "id": "120192fa",
   "metadata": {},
   "outputs": [
    {
     "name": "stdout",
     "output_type": "stream",
     "text": [
      "5.0\n"
     ]
    }
   ],
   "source": [
    "import math\n",
    "print(math.sqrt(25))"
   ]
  },
  {
   "cell_type": "code",
   "execution_count": 5,
   "id": "86dcb2be",
   "metadata": {},
   "outputs": [
    {
     "ename": "ValueError",
     "evalue": "math domain error",
     "output_type": "error",
     "traceback": [
      "\u001b[1;31m---------------------------------------------------------------------------\u001b[0m",
      "\u001b[1;31mValueError\u001b[0m                                Traceback (most recent call last)",
      "\u001b[1;32m~\\AppData\\Local\\Temp\\ipykernel_3840\\2928121707.py\u001b[0m in \u001b[0;36m<module>\u001b[1;34m\u001b[0m\n\u001b[0;32m      1\u001b[0m \u001b[1;32mimport\u001b[0m \u001b[0mmath\u001b[0m\u001b[1;33m\u001b[0m\u001b[1;33m\u001b[0m\u001b[0m\n\u001b[1;32m----> 2\u001b[1;33m \u001b[0mprint\u001b[0m\u001b[1;33m(\u001b[0m\u001b[0mmath\u001b[0m\u001b[1;33m.\u001b[0m\u001b[0msqrt\u001b[0m\u001b[1;33m(\u001b[0m\u001b[1;33m-\u001b[0m\u001b[1;36m25\u001b[0m\u001b[1;33m)\u001b[0m\u001b[1;33m)\u001b[0m\u001b[1;33m\u001b[0m\u001b[1;33m\u001b[0m\u001b[0m\n\u001b[0m",
      "\u001b[1;31mValueError\u001b[0m: math domain error"
     ]
    }
   ],
   "source": [
    "import math\n",
    "print(math.sqrt(-25))"
   ]
  },
  {
   "cell_type": "code",
   "execution_count": 6,
   "id": "11e62b09",
   "metadata": {},
   "outputs": [
    {
     "name": "stdout",
     "output_type": "stream",
     "text": [
      "5j\n"
     ]
    }
   ],
   "source": [
    "import cmath\n",
    "print(cmath.sqrt(-25))"
   ]
  },
  {
   "cell_type": "code",
   "execution_count": 7,
   "id": "1ee0d617",
   "metadata": {},
   "outputs": [
    {
     "name": "stdout",
     "output_type": "stream",
     "text": [
      "25j\n"
     ]
    }
   ],
   "source": [
    "import cmath\n",
    "print(cmath.sqrt(-625))"
   ]
  },
  {
   "cell_type": "code",
   "execution_count": 8,
   "id": "33efb4b2",
   "metadata": {},
   "outputs": [
    {
     "name": "stdout",
     "output_type": "stream",
     "text": [
      "1.7320508075688772j\n"
     ]
    }
   ],
   "source": [
    "import cmath\n",
    "print(cmath.sqrt(-3))"
   ]
  },
  {
   "cell_type": "markdown",
   "id": "2705f585",
   "metadata": {},
   "source": [
    "# Generate OTP"
   ]
  },
  {
   "cell_type": "code",
   "execution_count": 11,
   "id": "ea9ca05d",
   "metadata": {},
   "outputs": [
    {
     "name": "stdout",
     "output_type": "stream",
     "text": [
      "9406\n"
     ]
    }
   ],
   "source": [
    "import random\n",
    "print(random.randint(1000,9999))"
   ]
  },
  {
   "cell_type": "code",
   "execution_count": 12,
   "id": "905fce03",
   "metadata": {},
   "outputs": [
    {
     "name": "stdout",
     "output_type": "stream",
     "text": [
      "11719\n"
     ]
    }
   ],
   "source": [
    "import random\n",
    "print(random.randint(10000,99999))"
   ]
  },
  {
   "cell_type": "markdown",
   "id": "99a15bc6",
   "metadata": {},
   "source": [
    "# Calendar program"
   ]
  },
  {
   "cell_type": "code",
   "execution_count": 17,
   "id": "3ed8d3c1",
   "metadata": {},
   "outputs": [
    {
     "name": "stdout",
     "output_type": "stream",
     "text": [
      "     March 2024\n",
      "Mo Tu We Th Fr Sa Su\n",
      "             1  2  3\n",
      " 4  5  6  7  8  9 10\n",
      "11 12 13 14 15 16 17\n",
      "18 19 20 21 22 23 24\n",
      "25 26 27 28 29 30 31\n",
      "\n"
     ]
    }
   ],
   "source": [
    "import calendar\n",
    "print(calendar.month(2024,3))"
   ]
  },
  {
   "cell_type": "code",
   "execution_count": 29,
   "id": "c246f69a",
   "metadata": {},
   "outputs": [
    {
     "name": "stdout",
     "output_type": "stream",
     "text": [
      "                                  2024\n",
      "\n",
      "      January                   February                   March\n",
      "Mo Tu We Th Fr Sa Su      Mo Tu We Th Fr Sa Su      Mo Tu We Th Fr Sa Su\n",
      " 1  2  3  4  5  6  7                1  2  3  4                   1  2  3\n",
      " 8  9 10 11 12 13 14       5  6  7  8  9 10 11       4  5  6  7  8  9 10\n",
      "15 16 17 18 19 20 21      12 13 14 15 16 17 18      11 12 13 14 15 16 17\n",
      "22 23 24 25 26 27 28      19 20 21 22 23 24 25      18 19 20 21 22 23 24\n",
      "29 30 31                  26 27 28 29               25 26 27 28 29 30 31\n",
      "\n",
      "       April                      May                       June\n",
      "Mo Tu We Th Fr Sa Su      Mo Tu We Th Fr Sa Su      Mo Tu We Th Fr Sa Su\n",
      " 1  2  3  4  5  6  7             1  2  3  4  5                      1  2\n",
      " 8  9 10 11 12 13 14       6  7  8  9 10 11 12       3  4  5  6  7  8  9\n",
      "15 16 17 18 19 20 21      13 14 15 16 17 18 19      10 11 12 13 14 15 16\n",
      "22 23 24 25 26 27 28      20 21 22 23 24 25 26      17 18 19 20 21 22 23\n",
      "29 30                     27 28 29 30 31            24 25 26 27 28 29 30\n",
      "\n",
      "        July                     August                  September\n",
      "Mo Tu We Th Fr Sa Su      Mo Tu We Th Fr Sa Su      Mo Tu We Th Fr Sa Su\n",
      " 1  2  3  4  5  6  7                1  2  3  4                         1\n",
      " 8  9 10 11 12 13 14       5  6  7  8  9 10 11       2  3  4  5  6  7  8\n",
      "15 16 17 18 19 20 21      12 13 14 15 16 17 18       9 10 11 12 13 14 15\n",
      "22 23 24 25 26 27 28      19 20 21 22 23 24 25      16 17 18 19 20 21 22\n",
      "29 30 31                  26 27 28 29 30 31         23 24 25 26 27 28 29\n",
      "                                                    30\n",
      "\n",
      "      October                   November                  December\n",
      "Mo Tu We Th Fr Sa Su      Mo Tu We Th Fr Sa Su      Mo Tu We Th Fr Sa Su\n",
      "    1  2  3  4  5  6                   1  2  3                         1\n",
      " 7  8  9 10 11 12 13       4  5  6  7  8  9 10       2  3  4  5  6  7  8\n",
      "14 15 16 17 18 19 20      11 12 13 14 15 16 17       9 10 11 12 13 14 15\n",
      "21 22 23 24 25 26 27      18 19 20 21 22 23 24      16 17 18 19 20 21 22\n",
      "28 29 30 31               25 26 27 28 29 30         23 24 25 26 27 28 29\n",
      "                                                    30 31\n",
      "\n"
     ]
    }
   ],
   "source": [
    "import calendar\n",
    "yy=2024\n",
    "print(calendar.calendar(yy))"
   ]
  },
  {
   "cell_type": "code",
   "execution_count": 32,
   "id": "b6d9e0aa",
   "metadata": {},
   "outputs": [
    {
     "name": "stdout",
     "output_type": "stream",
     "text": [
      "                                  2024\n",
      "\n",
      "      January                   February                   March\n",
      "Mo Tu We Th Fr Sa Su      Mo Tu We Th Fr Sa Su      Mo Tu We Th Fr Sa Su\n",
      " 1  2  3  4  5  6  7                1  2  3  4                   1  2  3\n",
      " 8  9 10 11 12 13 14       5  6  7  8  9 10 11       4  5  6  7  8  9 10\n",
      "15 16 17 18 19 20 21      12 13 14 15 16 17 18      11 12 13 14 15 16 17\n",
      "22 23 24 25 26 27 28      19 20 21 22 23 24 25      18 19 20 21 22 23 24\n",
      "29 30 31                  26 27 28 29               25 26 27 28 29 30 31\n",
      "\n",
      "       April                      May                       June\n",
      "Mo Tu We Th Fr Sa Su      Mo Tu We Th Fr Sa Su      Mo Tu We Th Fr Sa Su\n",
      " 1  2  3  4  5  6  7             1  2  3  4  5                      1  2\n",
      " 8  9 10 11 12 13 14       6  7  8  9 10 11 12       3  4  5  6  7  8  9\n",
      "15 16 17 18 19 20 21      13 14 15 16 17 18 19      10 11 12 13 14 15 16\n",
      "22 23 24 25 26 27 28      20 21 22 23 24 25 26      17 18 19 20 21 22 23\n",
      "29 30                     27 28 29 30 31            24 25 26 27 28 29 30\n",
      "\n",
      "        July                     August                  September\n",
      "Mo Tu We Th Fr Sa Su      Mo Tu We Th Fr Sa Su      Mo Tu We Th Fr Sa Su\n",
      " 1  2  3  4  5  6  7                1  2  3  4                         1\n",
      " 8  9 10 11 12 13 14       5  6  7  8  9 10 11       2  3  4  5  6  7  8\n",
      "15 16 17 18 19 20 21      12 13 14 15 16 17 18       9 10 11 12 13 14 15\n",
      "22 23 24 25 26 27 28      19 20 21 22 23 24 25      16 17 18 19 20 21 22\n",
      "29 30 31                  26 27 28 29 30 31         23 24 25 26 27 28 29\n",
      "                                                    30\n",
      "\n",
      "      October                   November                  December\n",
      "Mo Tu We Th Fr Sa Su      Mo Tu We Th Fr Sa Su      Mo Tu We Th Fr Sa Su\n",
      "    1  2  3  4  5  6                   1  2  3                         1\n",
      " 7  8  9 10 11 12 13       4  5  6  7  8  9 10       2  3  4  5  6  7  8\n",
      "14 15 16 17 18 19 20      11 12 13 14 15 16 17       9 10 11 12 13 14 15\n",
      "21 22 23 24 25 26 27      18 19 20 21 22 23 24      16 17 18 19 20 21 22\n",
      "28 29 30 31               25 26 27 28 29 30         23 24 25 26 27 28 29\n",
      "                                                    30 31\n",
      "\n"
     ]
    }
   ],
   "source": [
    "import calendar\n",
    "print(calendar.calendar(2024))"
   ]
  },
  {
   "cell_type": "markdown",
   "id": "d6c7ab80",
   "metadata": {},
   "source": [
    "# Features Of Python"
   ]
  },
  {
   "cell_type": "code",
   "execution_count": 34,
   "id": "94be9948",
   "metadata": {},
   "outputs": [
    {
     "name": "stdout",
     "output_type": "stream",
     "text": [
      "9999999999999999999999999999999999999999999999999999999999999999999999999999\n"
     ]
    }
   ],
   "source": [
    "a=9999999999999999999999999999999999999999999999999999999999999999999999999999\n",
    "print(a)"
   ]
  },
  {
   "cell_type": "code",
   "execution_count": 37,
   "id": "0a6a5bba",
   "metadata": {},
   "outputs": [
    {
     "name": "stdout",
     "output_type": "stream",
     "text": [
      "9999999999999999999999999999999999999999999999999999999999999999999999999999 <class 'int'>\n"
     ]
    }
   ],
   "source": [
    "print(a,type(a))"
   ]
  },
  {
   "cell_type": "code",
   "execution_count": 40,
   "id": "070ad98b",
   "metadata": {},
   "outputs": [
    {
     "name": "stdout",
     "output_type": "stream",
     "text": [
      "12.34 <class 'float'>\n"
     ]
    }
   ],
   "source": [
    "int=12.34\n",
    "print(int,type(int))"
   ]
  },
  {
   "cell_type": "code",
   "execution_count": 47,
   "id": "573becf9",
   "metadata": {},
   "outputs": [
    {
     "name": "stdout",
     "output_type": "stream",
     "text": [
      "[10, 'RS', 11.11] <class 'list'>\n"
     ]
    }
   ],
   "source": [
    "s=[10,\"RS\",11.11]\n",
    "print(s,type(s))"
   ]
  },
  {
   "cell_type": "code",
   "execution_count": 48,
   "id": "cc4d9c53",
   "metadata": {},
   "outputs": [],
   "source": [
    "s.append(\"UWM\")"
   ]
  },
  {
   "cell_type": "code",
   "execution_count": 49,
   "id": "eefbc073",
   "metadata": {},
   "outputs": [
    {
     "name": "stdout",
     "output_type": "stream",
     "text": [
      "[10, 'RS', 11.11, 'UWM'] <class 'list'>\n"
     ]
    }
   ],
   "source": [
    "print(s,type(s))"
   ]
  },
  {
   "cell_type": "code",
   "execution_count": 50,
   "id": "3aa8f4c5",
   "metadata": {},
   "outputs": [],
   "source": [
    "s.append(\"HYD\")"
   ]
  },
  {
   "cell_type": "code",
   "execution_count": 51,
   "id": "57dc221e",
   "metadata": {},
   "outputs": [
    {
     "name": "stdout",
     "output_type": "stream",
     "text": [
      "[10, 'RS', 11.11, 'UWM', 'HYD'] <class 'list'>\n"
     ]
    }
   ],
   "source": [
    "print(s,type(s))"
   ]
  },
  {
   "cell_type": "code",
   "execution_count": 54,
   "id": "917d97ed",
   "metadata": {},
   "outputs": [],
   "source": [
    "s.append(True)"
   ]
  },
  {
   "cell_type": "code",
   "execution_count": 56,
   "id": "661f9762",
   "metadata": {},
   "outputs": [],
   "source": [
    "s.append(2+3j)"
   ]
  },
  {
   "cell_type": "code",
   "execution_count": 58,
   "id": "805450af",
   "metadata": {},
   "outputs": [
    {
     "name": "stdout",
     "output_type": "stream",
     "text": [
      "[10, 'RS', 11.11, 'UWM', 'HYD', True, True, (2+3j), (2+3j)] <class 'list'>\n"
     ]
    }
   ],
   "source": [
    "print(s,type(s))"
   ]
  },
  {
   "cell_type": "code",
   "execution_count": 64,
   "id": "446dc91c",
   "metadata": {},
   "outputs": [
    {
     "name": "stdout",
     "output_type": "stream",
     "text": [
      "10 20 30\n",
      "10 <class 'int'>\n",
      "20 <class 'int'>\n",
      "30 <class 'int'>\n"
     ]
    }
   ],
   "source": [
    "a=10\n",
    "b=20\n",
    "c=a+b\n",
    "print(a,b,c)\n",
    "print(a,type(a))\n",
    "print(b,type(b))\n",
    "print(c,type(c))"
   ]
  },
  {
   "cell_type": "code",
   "execution_count": 65,
   "id": "74ebe650",
   "metadata": {},
   "outputs": [
    {
     "name": "stdout",
     "output_type": "stream",
     "text": [
      "15\n"
     ]
    }
   ],
   "source": [
    "a=15\n",
    "print(a)"
   ]
  },
  {
   "cell_type": "code",
   "execution_count": 66,
   "id": "4351d382",
   "metadata": {},
   "outputs": [
    {
     "name": "stdout",
     "output_type": "stream",
     "text": [
      "2786303\n"
     ]
    }
   ],
   "source": [
    "a=0b1010101000001111111111\n",
    "print(a)"
   ]
  },
  {
   "cell_type": "code",
   "execution_count": 68,
   "id": "66a2cc72",
   "metadata": {},
   "outputs": [
    {
     "name": "stdout",
     "output_type": "stream",
     "text": [
      "15\n"
     ]
    }
   ],
   "source": [
    "a=0b1111\n",
    "print(a)"
   ]
  },
  {
   "cell_type": "code",
   "execution_count": 69,
   "id": "34de34ae",
   "metadata": {},
   "outputs": [
    {
     "name": "stdout",
     "output_type": "stream",
     "text": [
      "10\n"
     ]
    }
   ],
   "source": [
    "a=0o12\n",
    "print(a)"
   ]
  },
  {
   "cell_type": "code",
   "execution_count": 70,
   "id": "0edcc936",
   "metadata": {},
   "outputs": [
    {
     "name": "stdout",
     "output_type": "stream",
     "text": [
      "171 <class 'int'>\n"
     ]
    }
   ],
   "source": [
    "a=0xAB\n",
    "print(a,type(a))"
   ]
  },
  {
   "cell_type": "code",
   "execution_count": 71,
   "id": "502bf3eb",
   "metadata": {},
   "outputs": [
    {
     "name": "stdout",
     "output_type": "stream",
     "text": [
      "64206 <class 'int'>\n"
     ]
    }
   ],
   "source": [
    "a=0xFACE\n",
    "print(a,type(a))"
   ]
  },
  {
   "cell_type": "code",
   "execution_count": 73,
   "id": "1c62e799",
   "metadata": {},
   "outputs": [
    {
     "name": "stdout",
     "output_type": "stream",
     "text": [
      "3054 <class 'int'>\n"
     ]
    }
   ],
   "source": [
    "a=0xBEE\n",
    "print(a,type(a))"
   ]
  },
  {
   "cell_type": "code",
   "execution_count": 75,
   "id": "f50d25db",
   "metadata": {},
   "outputs": [
    {
     "name": "stdout",
     "output_type": "stream",
     "text": [
      "2766 <class 'int'>\n"
     ]
    }
   ],
   "source": [
    "a=0xACE\n",
    "print(a,type(a))"
   ]
  },
  {
   "cell_type": "code",
   "execution_count": 77,
   "id": "bdb6cc30",
   "metadata": {},
   "outputs": [
    {
     "ename": "SyntaxError",
     "evalue": "invalid syntax (231212898.py, line 1)",
     "output_type": "error",
     "traceback": [
      "\u001b[1;36m  File \u001b[1;32m\"C:\\Users\\vasan\\AppData\\Local\\Temp\\ipykernel_3840\\231212898.py\"\u001b[1;36m, line \u001b[1;32m1\u001b[0m\n\u001b[1;33m    a=0xACER\u001b[0m\n\u001b[1;37m           ^\u001b[0m\n\u001b[1;31mSyntaxError\u001b[0m\u001b[1;31m:\u001b[0m invalid syntax\n"
     ]
    }
   ],
   "source": [
    "a=0xACER\n",
    "print(a,type(a))"
   ]
  },
  {
   "cell_type": "markdown",
   "id": "1e7d0ab8",
   "metadata": {},
   "source": [
    "# DataTypes"
   ]
  },
  {
   "cell_type": "markdown",
   "id": "d931b47f",
   "metadata": {},
   "source": [
    "#Fundamental Data Types"
   ]
  },
  {
   "cell_type": "markdown",
   "id": "1b62e00d",
   "metadata": {},
   "source": [
    "# Int"
   ]
  },
  {
   "cell_type": "code",
   "execution_count": 79,
   "id": "2fe60924",
   "metadata": {},
   "outputs": [
    {
     "name": "stdout",
     "output_type": "stream",
     "text": [
      "19 <class 'int'>\n"
     ]
    }
   ],
   "source": [
    "a=19\n",
    "print(a,type(a))"
   ]
  },
  {
   "cell_type": "code",
   "execution_count": 82,
   "id": "ece5afbd",
   "metadata": {},
   "outputs": [
    {
     "name": "stdout",
     "output_type": "stream",
     "text": [
      "999 <class 'int'> 1298517970160\n"
     ]
    }
   ],
   "source": [
    "a=999\n",
    "print(a,type(a),id(a))"
   ]
  },
  {
   "cell_type": "code",
   "execution_count": 83,
   "id": "583e8883",
   "metadata": {},
   "outputs": [],
   "source": [
    "#Storing binary numbers in Python"
   ]
  },
  {
   "cell_type": "code",
   "execution_count": 86,
   "id": "5358776c",
   "metadata": {},
   "outputs": [
    {
     "name": "stdout",
     "output_type": "stream",
     "text": [
      "10 <class 'int'>\n"
     ]
    }
   ],
   "source": [
    "a=0b1010\n",
    "print(a,type(a))"
   ]
  },
  {
   "cell_type": "code",
   "execution_count": 88,
   "id": "c64a8947",
   "metadata": {},
   "outputs": [
    {
     "name": "stdout",
     "output_type": "stream",
     "text": [
      "15 <class 'int'>\n"
     ]
    }
   ],
   "source": [
    "a=0B1111\n",
    "print(a,type(a))"
   ]
  },
  {
   "cell_type": "code",
   "execution_count": 89,
   "id": "25721e31",
   "metadata": {},
   "outputs": [
    {
     "ename": "NameError",
     "evalue": "name 'ob1010' is not defined",
     "output_type": "error",
     "traceback": [
      "\u001b[1;31m---------------------------------------------------------------------------\u001b[0m",
      "\u001b[1;31mNameError\u001b[0m                                 Traceback (most recent call last)",
      "\u001b[1;32m~\\AppData\\Local\\Temp\\ipykernel_3840\\1274189386.py\u001b[0m in \u001b[0;36m<module>\u001b[1;34m\u001b[0m\n\u001b[1;32m----> 1\u001b[1;33m \u001b[0ma\u001b[0m\u001b[1;33m=\u001b[0m\u001b[0mob1010\u001b[0m\u001b[1;33m\u001b[0m\u001b[1;33m\u001b[0m\u001b[0m\n\u001b[0m\u001b[0;32m      2\u001b[0m \u001b[0mprint\u001b[0m\u001b[1;33m(\u001b[0m\u001b[0ma\u001b[0m\u001b[1;33m,\u001b[0m\u001b[0mtype\u001b[0m\u001b[1;33m(\u001b[0m\u001b[0ma\u001b[0m\u001b[1;33m)\u001b[0m\u001b[1;33m)\u001b[0m\u001b[1;33m\u001b[0m\u001b[1;33m\u001b[0m\u001b[0m\n",
      "\u001b[1;31mNameError\u001b[0m: name 'ob1010' is not defined"
     ]
    }
   ],
   "source": [
    "a=ob1010\n",
    "print(a,type(a))"
   ]
  },
  {
   "cell_type": "code",
   "execution_count": 90,
   "id": "27767246",
   "metadata": {},
   "outputs": [
    {
     "ename": "NameError",
     "evalue": "name 'ob10102' is not defined",
     "output_type": "error",
     "traceback": [
      "\u001b[1;31m---------------------------------------------------------------------------\u001b[0m",
      "\u001b[1;31mNameError\u001b[0m                                 Traceback (most recent call last)",
      "\u001b[1;32m~\\AppData\\Local\\Temp\\ipykernel_3840\\733939164.py\u001b[0m in \u001b[0;36m<module>\u001b[1;34m\u001b[0m\n\u001b[1;32m----> 1\u001b[1;33m \u001b[0ma\u001b[0m\u001b[1;33m=\u001b[0m\u001b[0mob10102\u001b[0m\u001b[1;33m\u001b[0m\u001b[1;33m\u001b[0m\u001b[0m\n\u001b[0m\u001b[0;32m      2\u001b[0m \u001b[0mprint\u001b[0m\u001b[1;33m(\u001b[0m\u001b[0ma\u001b[0m\u001b[1;33m,\u001b[0m\u001b[0mtype\u001b[0m\u001b[1;33m(\u001b[0m\u001b[0ma\u001b[0m\u001b[1;33m)\u001b[0m\u001b[1;33m)\u001b[0m\u001b[1;33m\u001b[0m\u001b[1;33m\u001b[0m\u001b[0m\n",
      "\u001b[1;31mNameError\u001b[0m: name 'ob10102' is not defined"
     ]
    }
   ],
   "source": [
    "a=ob10102\n",
    "print(a,type(a))"
   ]
  },
  {
   "cell_type": "code",
   "execution_count": null,
   "id": "be99cf00",
   "metadata": {},
   "outputs": [],
   "source": [
    "#Storing octal numbers in Python"
   ]
  },
  {
   "cell_type": "code",
   "execution_count": 91,
   "id": "2756b3df",
   "metadata": {},
   "outputs": [
    {
     "name": "stdout",
     "output_type": "stream",
     "text": [
      "13 <class 'int'>\n"
     ]
    }
   ],
   "source": [
    "a=0o15\n",
    "print(a,type(a))"
   ]
  },
  {
   "cell_type": "code",
   "execution_count": 93,
   "id": "437de2cc",
   "metadata": {},
   "outputs": [
    {
     "name": "stdout",
     "output_type": "stream",
     "text": [
      "15 <class 'int'>\n"
     ]
    }
   ],
   "source": [
    "a=0o17\n",
    "print(a,type(a))"
   ]
  },
  {
   "cell_type": "code",
   "execution_count": 95,
   "id": "e586df91",
   "metadata": {},
   "outputs": [
    {
     "ename": "SyntaxError",
     "evalue": "invalid digit '8' in octal literal (862193410.py, line 1)",
     "output_type": "error",
     "traceback": [
      "\u001b[1;36m  File \u001b[1;32m\"C:\\Users\\vasan\\AppData\\Local\\Temp\\ipykernel_3840\\862193410.py\"\u001b[1;36m, line \u001b[1;32m1\u001b[0m\n\u001b[1;33m    a=0o682\u001b[0m\n\u001b[1;37m         ^\u001b[0m\n\u001b[1;31mSyntaxError\u001b[0m\u001b[1;31m:\u001b[0m invalid digit '8' in octal literal\n"
     ]
    }
   ],
   "source": [
    "a=0o682\n",
    "print(a,type(a))"
   ]
  },
  {
   "cell_type": "code",
   "execution_count": 96,
   "id": "94140792",
   "metadata": {},
   "outputs": [
    {
     "name": "stdout",
     "output_type": "stream",
     "text": [
      "172 <class 'int'>\n"
     ]
    }
   ],
   "source": [
    "a=0xAC\n",
    "print(a,type(a))"
   ]
  },
  {
   "cell_type": "code",
   "execution_count": 101,
   "id": "8ef9aafa",
   "metadata": {},
   "outputs": [
    {
     "name": "stdout",
     "output_type": "stream",
     "text": [
      "3054 <class 'int'>\n"
     ]
    }
   ],
   "source": [
    "b=0xBEE\n",
    "print(b,type(b))"
   ]
  },
  {
   "cell_type": "code",
   "execution_count": 103,
   "id": "d3e37fe3",
   "metadata": {},
   "outputs": [
    {
     "name": "stdout",
     "output_type": "stream",
     "text": [
      "64206 <class 'int'>\n"
     ]
    }
   ],
   "source": [
    "c=0xFACE\n",
    "print(c,type(c))"
   ]
  },
  {
   "cell_type": "code",
   "execution_count": 105,
   "id": "81375cc6",
   "metadata": {},
   "outputs": [
    {
     "name": "stdout",
     "output_type": "stream",
     "text": [
      "2766 <class 'int'>\n"
     ]
    }
   ],
   "source": [
    "a=0XACE\n",
    "print(a,type(a))"
   ]
  },
  {
   "cell_type": "code",
   "execution_count": 107,
   "id": "8edea3d7",
   "metadata": {},
   "outputs": [
    {
     "ename": "SyntaxError",
     "evalue": "invalid syntax (2108367727.py, line 1)",
     "output_type": "error",
     "traceback": [
      "\u001b[1;36m  File \u001b[1;32m\"C:\\Users\\vasan\\AppData\\Local\\Temp\\ipykernel_3840\\2108367727.py\"\u001b[1;36m, line \u001b[1;32m1\u001b[0m\n\u001b[1;33m    a=0XACER\u001b[0m\n\u001b[1;37m           ^\u001b[0m\n\u001b[1;31mSyntaxError\u001b[0m\u001b[1;31m:\u001b[0m invalid syntax\n"
     ]
    }
   ],
   "source": [
    "a=0XACER\n",
    "print(a,type(a))"
   ]
  },
  {
   "cell_type": "markdown",
   "id": "037672a2",
   "metadata": {},
   "source": [
    "#BASE CONVERSION FUNCTIONS(Conversting one number system into other number system).\n",
    "\n",
    "1)bin()\n",
    "\n",
    "2)oct()\n",
    "\n",
    "3)hex()"
   ]
  },
  {
   "cell_type": "markdown",
   "id": "530a2bf3",
   "metadata": {},
   "source": [
    "#1)bin()\n",
    "\n",
    "conversting any base into (8,10,16) into base 2."
   ]
  },
  {
   "cell_type": "code",
   "execution_count": 116,
   "id": "65ef59fc",
   "metadata": {},
   "outputs": [
    {
     "name": "stdout",
     "output_type": "stream",
     "text": [
      "15 <class 'int'>\n",
      "0b1111 <class 'str'>\n"
     ]
    }
   ],
   "source": [
    "a=15\n",
    "print(a,type(a))\n",
    "b=bin(a)\n",
    "print(b,type(b))"
   ]
  },
  {
   "cell_type": "code",
   "execution_count": 117,
   "id": "8bdd8c01",
   "metadata": {},
   "outputs": [
    {
     "name": "stdout",
     "output_type": "stream",
     "text": [
      "12 <class 'int'>\n",
      "0b1100 <class 'str'>\n"
     ]
    }
   ],
   "source": [
    "a=0o14\n",
    "print(a,type(a))\n",
    "b=bin(a)\n",
    "print(b,type(b))"
   ]
  },
  {
   "cell_type": "code",
   "execution_count": 120,
   "id": "b5b67385",
   "metadata": {},
   "outputs": [
    {
     "name": "stdout",
     "output_type": "stream",
     "text": [
      "0b10101100 <class 'str'>\n"
     ]
    }
   ],
   "source": [
    "a=0xAC\n",
    "b=bin(a)\n",
    "print(b,type(b))"
   ]
  },
  {
   "cell_type": "code",
   "execution_count": 121,
   "id": "4077954b",
   "metadata": {},
   "outputs": [
    {
     "name": "stdout",
     "output_type": "stream",
     "text": [
      "0b1111 <class 'str'>\n"
     ]
    }
   ],
   "source": [
    "a=0xF\n",
    "b=bin(a)\n",
    "print(b,type(b))"
   ]
  },
  {
   "cell_type": "markdown",
   "id": "a834b11a",
   "metadata": {},
   "source": [
    "#2)OCT()\n",
    "\n",
    "conversting any base into (2,10,16) into base 8."
   ]
  },
  {
   "cell_type": "code",
   "execution_count": 125,
   "id": "82401ac6",
   "metadata": {},
   "outputs": [
    {
     "name": "stdout",
     "output_type": "stream",
     "text": [
      "0o17 <class 'str'>\n"
     ]
    }
   ],
   "source": [
    "a=15\n",
    "b=oct(a)\n",
    "print(b,type(b))"
   ]
  },
  {
   "cell_type": "code",
   "execution_count": 126,
   "id": "1f5bafca",
   "metadata": {},
   "outputs": [
    {
     "name": "stdout",
     "output_type": "stream",
     "text": [
      "0o17 <class 'str'>\n"
     ]
    }
   ],
   "source": [
    "a=0b1111\n",
    "b=oct(a)\n",
    "print(b,type(b))"
   ]
  },
  {
   "cell_type": "code",
   "execution_count": 129,
   "id": "1e4c6793",
   "metadata": {},
   "outputs": [
    {
     "name": "stdout",
     "output_type": "stream",
     "text": [
      "0o17 <class 'str'>\n"
     ]
    }
   ],
   "source": [
    "a=0xF\n",
    "b=oct(a)\n",
    "print(b,type(b))"
   ]
  },
  {
   "cell_type": "code",
   "execution_count": 131,
   "id": "1713687d",
   "metadata": {},
   "outputs": [
    {
     "name": "stdout",
     "output_type": "stream",
     "text": [
      "0o5756 <class 'str'>\n"
     ]
    }
   ],
   "source": [
    "a=0xBEE\n",
    "b=oct(a)\n",
    "print(b,type(b))"
   ]
  },
  {
   "cell_type": "markdown",
   "id": "fc337e8b",
   "metadata": {},
   "source": [
    "#3)hex()\n",
    "\n",
    "conversting any base into (2,8,10) into base 16."
   ]
  },
  {
   "cell_type": "code",
   "execution_count": 134,
   "id": "6c8ae887",
   "metadata": {},
   "outputs": [
    {
     "name": "stdout",
     "output_type": "stream",
     "text": [
      "0xa <class 'int'>\n"
     ]
    }
   ],
   "source": [
    "a=10\n",
    "b=hex(a)\n",
    "print(b,type(a))"
   ]
  },
  {
   "cell_type": "code",
   "execution_count": 135,
   "id": "e6b9b607",
   "metadata": {},
   "outputs": [
    {
     "name": "stdout",
     "output_type": "stream",
     "text": [
      "0x8 <class 'int'>\n"
     ]
    }
   ],
   "source": [
    "a=8\n",
    "b=hex(a)\n",
    "print(b,type(a))"
   ]
  },
  {
   "cell_type": "code",
   "execution_count": 136,
   "id": "7ffaf88d",
   "metadata": {},
   "outputs": [
    {
     "name": "stdout",
     "output_type": "stream",
     "text": [
      "0x9 <class 'int'>\n"
     ]
    }
   ],
   "source": [
    "a=9\n",
    "b=hex(a)\n",
    "print(b,type(a))"
   ]
  },
  {
   "cell_type": "code",
   "execution_count": 138,
   "id": "6a3acf0d",
   "metadata": {},
   "outputs": [
    {
     "name": "stdout",
     "output_type": "stream",
     "text": [
      "0xf <class 'int'>\n"
     ]
    }
   ],
   "source": [
    "a=0b1111\n",
    "b=hex(a)\n",
    "print(b,type(a))"
   ]
  },
  {
   "cell_type": "code",
   "execution_count": 139,
   "id": "d7ac766f",
   "metadata": {},
   "outputs": [
    {
     "name": "stdout",
     "output_type": "stream",
     "text": [
      "0xf <class 'int'>\n"
     ]
    }
   ],
   "source": [
    "a=0b1111\n",
    "b=hex(a)\n",
    "print(b,type(a))"
   ]
  },
  {
   "cell_type": "code",
   "execution_count": 140,
   "id": "9b479c8f",
   "metadata": {},
   "outputs": [
    {
     "name": "stdout",
     "output_type": "stream",
     "text": [
      "0xf <class 'int'>\n"
     ]
    }
   ],
   "source": [
    "a=0o17\n",
    "b=hex(a)\n",
    "print(b,type(a))"
   ]
  },
  {
   "cell_type": "markdown",
   "id": "5dcf8370",
   "metadata": {},
   "source": [
    "# Float"
   ]
  },
  {
   "cell_type": "code",
   "execution_count": 144,
   "id": "1017bbf0",
   "metadata": {},
   "outputs": [
    {
     "name": "stdout",
     "output_type": "stream",
     "text": [
      "34.99 <class 'float'>\n"
     ]
    }
   ],
   "source": [
    "a=34.99\n",
    "print(a,type(a))"
   ]
  },
  {
   "cell_type": "code",
   "execution_count": 148,
   "id": "ed085640",
   "metadata": {},
   "outputs": [
    {
     "name": "stdout",
     "output_type": "stream",
     "text": [
      "1.9999 <class 'float'>\n"
     ]
    }
   ],
   "source": [
    "a=1.9999\n",
    "print(a,type(a))"
   ]
  },
  {
   "cell_type": "code",
   "execution_count": 151,
   "id": "aefb4b6a",
   "metadata": {},
   "outputs": [
    {
     "name": "stdout",
     "output_type": "stream",
     "text": [
      "3.142857142857143 <class 'float'>\n"
     ]
    }
   ],
   "source": [
    "a=22/7\n",
    "print(a,type(a))"
   ]
  },
  {
   "cell_type": "code",
   "execution_count": 154,
   "id": "5439251a",
   "metadata": {},
   "outputs": [
    {
     "ename": "SyntaxError",
     "evalue": "invalid syntax (23341880.py, line 1)",
     "output_type": "error",
     "traceback": [
      "\u001b[1;36m  File \u001b[1;32m\"C:\\Users\\vasan\\AppData\\Local\\Temp\\ipykernel_3840\\23341880.py\"\u001b[1;36m, line \u001b[1;32m1\u001b[0m\n\u001b[1;33m    a=0b1111.0b1010\u001b[0m\n\u001b[1;37m            ^\u001b[0m\n\u001b[1;31mSyntaxError\u001b[0m\u001b[1;31m:\u001b[0m invalid syntax\n"
     ]
    }
   ],
   "source": [
    "a=0b1111.0b1010"
   ]
  },
  {
   "cell_type": "code",
   "execution_count": 157,
   "id": "485e4d08",
   "metadata": {},
   "outputs": [
    {
     "ename": "SyntaxError",
     "evalue": "invalid syntax (3642366828.py, line 1)",
     "output_type": "error",
     "traceback": [
      "\u001b[1;36m  File \u001b[1;32m\"C:\\Users\\vasan\\AppData\\Local\\Temp\\ipykernel_3840\\3642366828.py\"\u001b[1;36m, line \u001b[1;32m1\u001b[0m\n\u001b[1;33m    a=0xF.0b1010\u001b[0m\n\u001b[1;37m         ^\u001b[0m\n\u001b[1;31mSyntaxError\u001b[0m\u001b[1;31m:\u001b[0m invalid syntax\n"
     ]
    }
   ],
   "source": [
    "a=0xF.0b1010"
   ]
  },
  {
   "cell_type": "code",
   "execution_count": 159,
   "id": "cef93c27",
   "metadata": {},
   "outputs": [
    {
     "ename": "SyntaxError",
     "evalue": "invalid syntax (4066610522.py, line 1)",
     "output_type": "error",
     "traceback": [
      "\u001b[1;36m  File \u001b[1;32m\"C:\\Users\\vasan\\AppData\\Local\\Temp\\ipykernel_3840\\4066610522.py\"\u001b[1;36m, line \u001b[1;32m1\u001b[0m\n\u001b[1;33m    a=0o17.0o12\u001b[0m\n\u001b[1;37m          ^\u001b[0m\n\u001b[1;31mSyntaxError\u001b[0m\u001b[1;31m:\u001b[0m invalid syntax\n"
     ]
    }
   ],
   "source": [
    "a=0o17.0o12"
   ]
  },
  {
   "cell_type": "code",
   "execution_count": 161,
   "id": "85a301e4",
   "metadata": {},
   "outputs": [
    {
     "name": "stdout",
     "output_type": "stream",
     "text": [
      "300.0 <class 'float'>\n"
     ]
    }
   ],
   "source": [
    "a=3e2\n",
    "print(a,type(a))"
   ]
  },
  {
   "cell_type": "code",
   "execution_count": 163,
   "id": "fac96e74",
   "metadata": {},
   "outputs": [
    {
     "name": "stdout",
     "output_type": "stream",
     "text": [
      "0.03 <class 'float'>\n"
     ]
    }
   ],
   "source": [
    "a=3e-2\n",
    "print(a,type(a))"
   ]
  },
  {
   "cell_type": "code",
   "execution_count": 164,
   "id": "53901e1f",
   "metadata": {},
   "outputs": [
    {
     "name": "stdout",
     "output_type": "stream",
     "text": [
      "0.43 <class 'float'>\n"
     ]
    }
   ],
   "source": [
    "a=43e-2\n",
    "print(a,type(a))"
   ]
  },
  {
   "cell_type": "code",
   "execution_count": 165,
   "id": "d9e49688",
   "metadata": {},
   "outputs": [
    {
     "name": "stdout",
     "output_type": "stream",
     "text": [
      "4e-35 <class 'float'>\n"
     ]
    }
   ],
   "source": [
    "a=0.00000000000000000000000000000000004\n",
    "print(a,type(a))"
   ]
  },
  {
   "cell_type": "markdown",
   "id": "c07c163b",
   "metadata": {},
   "source": [
    "# Bool"
   ]
  },
  {
   "cell_type": "code",
   "execution_count": 166,
   "id": "2909e994",
   "metadata": {},
   "outputs": [
    {
     "name": "stdout",
     "output_type": "stream",
     "text": [
      "True <class 'bool'>\n"
     ]
    }
   ],
   "source": [
    "a=True\n",
    "print(a,type(a))"
   ]
  },
  {
   "cell_type": "code",
   "execution_count": 168,
   "id": "88e7c8c6",
   "metadata": {},
   "outputs": [
    {
     "name": "stdout",
     "output_type": "stream",
     "text": [
      "False <class 'bool'>\n"
     ]
    }
   ],
   "source": [
    "a=False\n",
    "print(a,type(a))"
   ]
  },
  {
   "cell_type": "code",
   "execution_count": 174,
   "id": "faebd277",
   "metadata": {},
   "outputs": [
    {
     "name": "stdout",
     "output_type": "stream",
     "text": [
      "2\n",
      "1\n",
      "0\n",
      "15\n",
      "1\n"
     ]
    }
   ],
   "source": [
    "a=True\n",
    "b=True\n",
    "print(a+b)\n",
    "print(True+False)\n",
    "print(True*False)\n",
    "print(False+0b1111)\n",
    "print(2*False+True)"
   ]
  },
  {
   "cell_type": "markdown",
   "id": "45f9e112",
   "metadata": {},
   "source": [
    "# Complex"
   ]
  },
  {
   "cell_type": "code",
   "execution_count": 176,
   "id": "87e99eaa",
   "metadata": {},
   "outputs": [
    {
     "name": "stdout",
     "output_type": "stream",
     "text": [
      "(2+3j) <class 'complex'>\n"
     ]
    }
   ],
   "source": [
    "a=2+3j\n",
    "print(a,type(a))"
   ]
  },
  {
   "cell_type": "code",
   "execution_count": 177,
   "id": "bee5a34d",
   "metadata": {},
   "outputs": [
    {
     "name": "stdout",
     "output_type": "stream",
     "text": [
      "(2.3+4.6j) <class 'complex'>\n"
     ]
    }
   ],
   "source": [
    "a=2.3+4.6j\n",
    "print(a,type(a))"
   ]
  },
  {
   "cell_type": "code",
   "execution_count": 179,
   "id": "2fc561ca",
   "metadata": {},
   "outputs": [
    {
     "name": "stdout",
     "output_type": "stream",
     "text": [
      "(2-3j) <class 'complex'>\n"
     ]
    }
   ],
   "source": [
    "c=2-3j\n",
    "print(c,type(c))"
   ]
  },
  {
   "cell_type": "code",
   "execution_count": 181,
   "id": "1dd6c5a0",
   "metadata": {},
   "outputs": [
    {
     "name": "stdout",
     "output_type": "stream",
     "text": [
      "(2.5-3.5j) <class 'complex'>\n"
     ]
    }
   ],
   "source": [
    "d=2.5-3.5j\n",
    "print(d,type(d))"
   ]
  },
  {
   "cell_type": "code",
   "execution_count": 182,
   "id": "bc742bf2",
   "metadata": {},
   "outputs": [
    {
     "name": "stdout",
     "output_type": "stream",
     "text": [
      "(23+4.5j) <class 'complex'>\n"
     ]
    }
   ],
   "source": [
    "e=23+4.5j\n",
    "print(e,type(e))"
   ]
  },
  {
   "cell_type": "code",
   "execution_count": 183,
   "id": "e5b70229",
   "metadata": {},
   "outputs": [
    {
     "ename": "SyntaxError",
     "evalue": "invalid syntax (1759108415.py, line 1)",
     "output_type": "error",
     "traceback": [
      "\u001b[1;36m  File \u001b[1;32m\"C:\\Users\\vasan\\AppData\\Local\\Temp\\ipykernel_3840\\1759108415.py\"\u001b[1;36m, line \u001b[1;32m1\u001b[0m\n\u001b[1;33m    x=2+3i\u001b[0m\n\u001b[1;37m         ^\u001b[0m\n\u001b[1;31mSyntaxError\u001b[0m\u001b[1;31m:\u001b[0m invalid syntax\n"
     ]
    }
   ],
   "source": [
    "x=2+3i\n",
    "a=2+j3"
   ]
  },
  {
   "cell_type": "code",
   "execution_count": 184,
   "id": "74144aa6",
   "metadata": {},
   "outputs": [
    {
     "name": "stdout",
     "output_type": "stream",
     "text": [
      "(2+3j) <class 'complex'>\n"
     ]
    }
   ],
   "source": [
    "a=2+3j\n",
    "print(a,type(a))"
   ]
  },
  {
   "cell_type": "code",
   "execution_count": 185,
   "id": "5cd1f584",
   "metadata": {},
   "outputs": [
    {
     "data": {
      "text/plain": [
       "2.0"
      ]
     },
     "execution_count": 185,
     "metadata": {},
     "output_type": "execute_result"
    }
   ],
   "source": [
    "a.real"
   ]
  },
  {
   "cell_type": "code",
   "execution_count": 187,
   "id": "d8c43303",
   "metadata": {},
   "outputs": [
    {
     "data": {
      "text/plain": [
       "3.0"
      ]
     },
     "execution_count": 187,
     "metadata": {},
     "output_type": "execute_result"
    }
   ],
   "source": [
    "a.imag"
   ]
  },
  {
   "cell_type": "code",
   "execution_count": 189,
   "id": "e014307a",
   "metadata": {},
   "outputs": [
    {
     "name": "stdout",
     "output_type": "stream",
     "text": [
      "2.3\n",
      "4.5\n"
     ]
    }
   ],
   "source": [
    "b=2.3+4.5j\n",
    "print(b.real)\n",
    "print(b.imag)"
   ]
  },
  {
   "cell_type": "markdown",
   "id": "b7ba2f77",
   "metadata": {},
   "source": [
    "# Str"
   ]
  },
  {
   "cell_type": "code",
   "execution_count": 193,
   "id": "7d6078bf",
   "metadata": {},
   "outputs": [],
   "source": [
    "s=\"PYTHON\""
   ]
  },
  {
   "cell_type": "code",
   "execution_count": 195,
   "id": "19dd9df4",
   "metadata": {},
   "outputs": [
    {
     "name": "stdout",
     "output_type": "stream",
     "text": [
      "PYTHON <class 'str'>\n"
     ]
    }
   ],
   "source": [
    "print(s,type(s))"
   ]
  },
  {
   "cell_type": "code",
   "execution_count": 196,
   "id": "7925408c",
   "metadata": {},
   "outputs": [
    {
     "name": "stdout",
     "output_type": "stream",
     "text": [
      "PYTHON <class 'str'>\n"
     ]
    }
   ],
   "source": [
    "s='PYTHON'\n",
    "print(s,type(s))"
   ]
  },
  {
   "cell_type": "code",
   "execution_count": 198,
   "id": "4eebd9c7",
   "metadata": {},
   "outputs": [
    {
     "name": "stdout",
     "output_type": "stream",
     "text": [
      "p <class 'str'>\n",
      "P <class 'str'>\n"
     ]
    }
   ],
   "source": [
    "s=\"p\"\n",
    "print(s,type(s))\n",
    "s='P'\n",
    "print(s,type(s))"
   ]
  },
  {
   "cell_type": "code",
   "execution_count": 200,
   "id": "ba2a491a",
   "metadata": {},
   "outputs": [
    {
     "name": "stdout",
     "output_type": "stream",
     "text": [
      "Python is an oop lang <class 'str'>\n"
     ]
    }
   ],
   "source": [
    "s=\"Python is an oop lang\"\n",
    "print(s,type(s))"
   ]
  },
  {
   "cell_type": "code",
   "execution_count": 202,
   "id": "3ff5cad9",
   "metadata": {},
   "outputs": [
    {
     "name": "stdout",
     "output_type": "stream",
     "text": [
      "Python is an oop lang <class 'str'>\n"
     ]
    }
   ],
   "source": [
    "s='Python is an oop lang'\n",
    "print(s,type(s))"
   ]
  },
  {
   "cell_type": "code",
   "execution_count": 203,
   "id": "664b5f73",
   "metadata": {},
   "outputs": [
    {
     "name": "stdout",
     "output_type": "stream",
     "text": [
      "python <class 'str'>\n"
     ]
    }
   ],
   "source": [
    "s=\"\"\"python\"\"\"\n",
    "print(s,type(s))"
   ]
  },
  {
   "cell_type": "code",
   "execution_count": 204,
   "id": "37e28e64",
   "metadata": {},
   "outputs": [
    {
     "name": "stdout",
     "output_type": "stream",
     "text": [
      "python <class 'str'>\n"
     ]
    }
   ],
   "source": [
    "s='''python'''\n",
    "print(s,type(s))"
   ]
  },
  {
   "cell_type": "markdown",
   "id": "a4ddd566",
   "metadata": {},
   "source": [
    "# Indexing & Slicing of Str"
   ]
  },
  {
   "cell_type": "code",
   "execution_count": 207,
   "id": "d8b1ff21",
   "metadata": {},
   "outputs": [],
   "source": [
    "s=\"PYTHON\""
   ]
  },
  {
   "cell_type": "code",
   "execution_count": 208,
   "id": "3968082f",
   "metadata": {},
   "outputs": [
    {
     "name": "stdout",
     "output_type": "stream",
     "text": [
      "P\n"
     ]
    }
   ],
   "source": [
    "print(s[0])"
   ]
  },
  {
   "cell_type": "code",
   "execution_count": 209,
   "id": "e4067435",
   "metadata": {},
   "outputs": [
    {
     "name": "stdout",
     "output_type": "stream",
     "text": [
      "P\n"
     ]
    }
   ],
   "source": [
    "print(s[-6])"
   ]
  },
  {
   "cell_type": "code",
   "execution_count": 210,
   "id": "cd49ee7f",
   "metadata": {},
   "outputs": [
    {
     "name": "stdout",
     "output_type": "stream",
     "text": [
      "N\n"
     ]
    }
   ],
   "source": [
    "print(s[-1])"
   ]
  },
  {
   "cell_type": "code",
   "execution_count": 212,
   "id": "88753393",
   "metadata": {},
   "outputs": [
    {
     "name": "stdout",
     "output_type": "stream",
     "text": [
      "N\n"
     ]
    }
   ],
   "source": [
    "print(s[5])"
   ]
  },
  {
   "cell_type": "code",
   "execution_count": 213,
   "id": "3de70a39",
   "metadata": {},
   "outputs": [
    {
     "ename": "IndexError",
     "evalue": "string index out of range",
     "output_type": "error",
     "traceback": [
      "\u001b[1;31m---------------------------------------------------------------------------\u001b[0m",
      "\u001b[1;31mIndexError\u001b[0m                                Traceback (most recent call last)",
      "\u001b[1;32m~\\AppData\\Local\\Temp\\ipykernel_3840\\3373528627.py\u001b[0m in \u001b[0;36m<module>\u001b[1;34m\u001b[0m\n\u001b[1;32m----> 1\u001b[1;33m \u001b[0mprint\u001b[0m\u001b[1;33m(\u001b[0m\u001b[0ms\u001b[0m\u001b[1;33m[\u001b[0m\u001b[1;36m10\u001b[0m\u001b[1;33m]\u001b[0m\u001b[1;33m)\u001b[0m\u001b[1;33m\u001b[0m\u001b[1;33m\u001b[0m\u001b[0m\n\u001b[0m",
      "\u001b[1;31mIndexError\u001b[0m: string index out of range"
     ]
    }
   ],
   "source": [
    "print(s[10])"
   ]
  },
  {
   "cell_type": "code",
   "execution_count": 214,
   "id": "414703aa",
   "metadata": {},
   "outputs": [
    {
     "ename": "IndexError",
     "evalue": "string index out of range",
     "output_type": "error",
     "traceback": [
      "\u001b[1;31m---------------------------------------------------------------------------\u001b[0m",
      "\u001b[1;31mIndexError\u001b[0m                                Traceback (most recent call last)",
      "\u001b[1;32m~\\AppData\\Local\\Temp\\ipykernel_3840\\2216862876.py\u001b[0m in \u001b[0;36m<module>\u001b[1;34m\u001b[0m\n\u001b[1;32m----> 1\u001b[1;33m \u001b[0mprint\u001b[0m\u001b[1;33m(\u001b[0m\u001b[0ms\u001b[0m\u001b[1;33m[\u001b[0m\u001b[1;33m-\u001b[0m\u001b[1;36m10\u001b[0m\u001b[1;33m]\u001b[0m\u001b[1;33m)\u001b[0m\u001b[1;33m\u001b[0m\u001b[1;33m\u001b[0m\u001b[0m\n\u001b[0m",
      "\u001b[1;31mIndexError\u001b[0m: string index out of range"
     ]
    }
   ],
   "source": [
    "print(s[-10])"
   ]
  },
  {
   "cell_type": "code",
   "execution_count": 216,
   "id": "4b94fbd8",
   "metadata": {},
   "outputs": [
    {
     "name": "stdout",
     "output_type": "stream",
     "text": [
      "PYTHON\n"
     ]
    }
   ],
   "source": [
    "print(s)"
   ]
  },
  {
   "cell_type": "code",
   "execution_count": 218,
   "id": "51528769",
   "metadata": {},
   "outputs": [
    {
     "name": "stdout",
     "output_type": "stream",
     "text": [
      "PYTHON\n"
     ]
    }
   ],
   "source": [
    "print(s[::])"
   ]
  },
  {
   "cell_type": "code",
   "execution_count": 219,
   "id": "6017de23",
   "metadata": {},
   "outputs": [
    {
     "name": "stdout",
     "output_type": "stream",
     "text": [
      "PYTHON\n"
     ]
    }
   ],
   "source": [
    "print(s[0:])"
   ]
  },
  {
   "cell_type": "code",
   "execution_count": 220,
   "id": "693ba8c7",
   "metadata": {},
   "outputs": [
    {
     "name": "stdout",
     "output_type": "stream",
     "text": [
      "PYTHON\n"
     ]
    }
   ],
   "source": [
    "print(s[:6])"
   ]
  },
  {
   "cell_type": "code",
   "execution_count": 222,
   "id": "7feb3919",
   "metadata": {},
   "outputs": [
    {
     "name": "stdout",
     "output_type": "stream",
     "text": [
      "TO\n"
     ]
    }
   ],
   "source": [
    "print(s[2:6:2])"
   ]
  },
  {
   "cell_type": "code",
   "execution_count": 229,
   "id": "43360266",
   "metadata": {},
   "outputs": [
    {
     "name": "stdout",
     "output_type": "stream",
     "text": [
      "H\n",
      "O\n",
      "T\n",
      "O\n",
      "T\n"
     ]
    },
    {
     "ename": "IndexError",
     "evalue": "string index out of range",
     "output_type": "error",
     "traceback": [
      "\u001b[1;31m---------------------------------------------------------------------------\u001b[0m",
      "\u001b[1;31mIndexError\u001b[0m                                Traceback (most recent call last)",
      "\u001b[1;32m~\\AppData\\Local\\Temp\\ipykernel_3840\\371798637.py\u001b[0m in \u001b[0;36m<module>\u001b[1;34m\u001b[0m\n\u001b[0;32m      5\u001b[0m \u001b[0mprint\u001b[0m\u001b[1;33m(\u001b[0m\u001b[0ms\u001b[0m\u001b[1;33m[\u001b[0m\u001b[1;33m-\u001b[0m\u001b[1;36m2\u001b[0m\u001b[1;33m]\u001b[0m\u001b[1;33m)\u001b[0m\u001b[1;33m\u001b[0m\u001b[1;33m\u001b[0m\u001b[0m\n\u001b[0;32m      6\u001b[0m \u001b[0mprint\u001b[0m\u001b[1;33m(\u001b[0m\u001b[0ms\u001b[0m\u001b[1;33m[\u001b[0m\u001b[1;36m2\u001b[0m\u001b[1;33m]\u001b[0m\u001b[1;33m)\u001b[0m\u001b[1;33m\u001b[0m\u001b[1;33m\u001b[0m\u001b[0m\n\u001b[1;32m----> 7\u001b[1;33m \u001b[0mprint\u001b[0m\u001b[1;33m(\u001b[0m\u001b[0ms\u001b[0m\u001b[1;33m[\u001b[0m\u001b[1;36m12\u001b[0m\u001b[1;33m]\u001b[0m\u001b[1;33m)\u001b[0m\u001b[1;33m\u001b[0m\u001b[1;33m\u001b[0m\u001b[0m\n\u001b[0m\u001b[0;32m      8\u001b[0m \u001b[0mprint\u001b[0m\u001b[1;33m(\u001b[0m\u001b[0ms\u001b[0m\u001b[1;33m[\u001b[0m\u001b[1;33m-\u001b[0m\u001b[1;36m12\u001b[0m\u001b[1;33m]\u001b[0m\u001b[1;33m)\u001b[0m\u001b[1;33m\u001b[0m\u001b[1;33m\u001b[0m\u001b[0m\n",
      "\u001b[1;31mIndexError\u001b[0m: string index out of range"
     ]
    }
   ],
   "source": [
    "s=\"PYTHON\"\n",
    "print(s[3])\n",
    "print(s[-2])\n",
    "print(s[-4])\n",
    "print(s[-2])\n",
    "print(s[2])\n",
    "print(s[12])\n",
    "print(s[-12])\n"
   ]
  },
  {
   "cell_type": "code",
   "execution_count": 232,
   "id": "b9e55abc",
   "metadata": {},
   "outputs": [
    {
     "name": "stdout",
     "output_type": "stream",
     "text": [
      "YTH\n"
     ]
    }
   ],
   "source": [
    "s=\"PYTHON\"\n",
    "print(s[1:4])"
   ]
  },
  {
   "cell_type": "code",
   "execution_count": 234,
   "id": "035a403f",
   "metadata": {},
   "outputs": [
    {
     "name": "stdout",
     "output_type": "stream",
     "text": [
      "THO\n"
     ]
    }
   ],
   "source": [
    "print(s[2:5])"
   ]
  },
  {
   "cell_type": "code",
   "execution_count": 235,
   "id": "b6d81a27",
   "metadata": {},
   "outputs": [
    {
     "name": "stdout",
     "output_type": "stream",
     "text": [
      "PYTHON\n"
     ]
    }
   ],
   "source": [
    "print(s[0:6])"
   ]
  },
  {
   "cell_type": "code",
   "execution_count": 236,
   "id": "e3893e4b",
   "metadata": {},
   "outputs": [
    {
     "name": "stdout",
     "output_type": "stream",
     "text": [
      "ON\n"
     ]
    }
   ],
   "source": [
    "print(s[4:6])"
   ]
  },
  {
   "cell_type": "code",
   "execution_count": 238,
   "id": "dfe40377",
   "metadata": {},
   "outputs": [
    {
     "name": "stdout",
     "output_type": "stream",
     "text": [
      "\n"
     ]
    }
   ],
   "source": [
    "print(s[4:2])"
   ]
  },
  {
   "cell_type": "code",
   "execution_count": 239,
   "id": "f791ad69",
   "metadata": {},
   "outputs": [
    {
     "name": "stdout",
     "output_type": "stream",
     "text": [
      "PY\n"
     ]
    }
   ],
   "source": [
    "s=\"PYTHON\"\n",
    "print(s[-6:-4])"
   ]
  },
  {
   "cell_type": "code",
   "execution_count": 241,
   "id": "3c422205",
   "metadata": {},
   "outputs": [
    {
     "name": "stdout",
     "output_type": "stream",
     "text": [
      "YTHO\n"
     ]
    }
   ],
   "source": [
    "print(s[-5:-1])"
   ]
  },
  {
   "cell_type": "code",
   "execution_count": 242,
   "id": "5e03a5fb",
   "metadata": {},
   "outputs": [
    {
     "name": "stdout",
     "output_type": "stream",
     "text": [
      "\n"
     ]
    }
   ],
   "source": [
    "print(s[-1:-4])"
   ]
  },
  {
   "cell_type": "code",
   "execution_count": null,
   "id": "b3fc775c",
   "metadata": {},
   "outputs": [],
   "source": []
  },
  {
   "cell_type": "code",
   "execution_count": null,
   "id": "149526bf",
   "metadata": {},
   "outputs": [],
   "source": []
  }
 ],
 "metadata": {
  "kernelspec": {
   "display_name": "Python 3 (ipykernel)",
   "language": "python",
   "name": "python3"
  },
  "language_info": {
   "codemirror_mode": {
    "name": "ipython",
    "version": 3
   },
   "file_extension": ".py",
   "mimetype": "text/x-python",
   "name": "python",
   "nbconvert_exporter": "python",
   "pygments_lexer": "ipython3",
   "version": "3.9.13"
  }
 },
 "nbformat": 4,
 "nbformat_minor": 5
}
