{
 "cells": [
  {
   "cell_type": "markdown",
   "id": "5468bd23",
   "metadata": {},
   "source": [
    "# Python Function & Lambda Function"
   ]
  },
  {
   "cell_type": "raw",
   "id": "1380449f",
   "metadata": {},
   "source": [
    "# DEF: Function is a group of related statements that performs a specific task."
   ]
  },
  {
   "cell_type": "markdown",
   "id": "d0853793",
   "metadata": {},
   "source": [
    "# Types: \n",
    "\n",
    "# 1)In Built Function \n",
    "# 2) User Defined Function"
   ]
  },
  {
   "cell_type": "markdown",
   "id": "af2dbbf7",
   "metadata": {},
   "source": [
    "# 1)Built In Functions:"
   ]
  },
  {
   "cell_type": "code",
   "execution_count": 1,
   "id": "2c388d94",
   "metadata": {},
   "outputs": [
    {
     "data": {
      "text/plain": [
       "100"
      ]
     },
     "execution_count": 1,
     "metadata": {},
     "output_type": "execute_result"
    }
   ],
   "source": [
    "num=-100\n",
    "abs(100)"
   ]
  },
  {
   "cell_type": "markdown",
   "id": "b1dd814b",
   "metadata": {},
   "source": [
    "# 2) User Defined Function"
   ]
  },
  {
   "cell_type": "code",
   "execution_count": 2,
   "id": "606dcf74",
   "metadata": {},
   "outputs": [
    {
     "name": "stdout",
     "output_type": "stream",
     "text": [
      "24\n"
     ]
    }
   ],
   "source": [
    "a,b,c,d=3,4,8,9\n",
    "print(a+b+c+d)"
   ]
  },
  {
   "cell_type": "code",
   "execution_count": 3,
   "id": "6e9fe2bb",
   "metadata": {},
   "outputs": [
    {
     "name": "stdout",
     "output_type": "stream",
     "text": [
      "54\n"
     ]
    }
   ],
   "source": [
    "a,b,c,d=13,24,8,9\n",
    "print(a+b+c+d)"
   ]
  },
  {
   "cell_type": "code",
   "execution_count": 4,
   "id": "3c92d810",
   "metadata": {},
   "outputs": [],
   "source": [
    "#Define the functions----->a,b,c are called parameters\n",
    "def sum_4(a,b,c,d):\n",
    "    z=a+b+c+d\n",
    "    return z"
   ]
  },
  {
   "cell_type": "code",
   "execution_count": 5,
   "id": "5fc6254b",
   "metadata": {},
   "outputs": [],
   "source": [
    "#Function call"
   ]
  },
  {
   "cell_type": "code",
   "execution_count": 6,
   "id": "59db0ffc",
   "metadata": {},
   "outputs": [
    {
     "data": {
      "text/plain": [
       "24"
      ]
     },
     "execution_count": 6,
     "metadata": {},
     "output_type": "execute_result"
    }
   ],
   "source": [
    "sum_4(3,4,8,9)"
   ]
  },
  {
   "cell_type": "code",
   "execution_count": 7,
   "id": "ded4a302",
   "metadata": {},
   "outputs": [
    {
     "data": {
      "text/plain": [
       "54"
      ]
     },
     "execution_count": 7,
     "metadata": {},
     "output_type": "execute_result"
    }
   ],
   "source": [
    "sum_4(13,24,8,9)"
   ]
  },
  {
   "cell_type": "code",
   "execution_count": 8,
   "id": "35a4373b",
   "metadata": {},
   "outputs": [
    {
     "data": {
      "text/plain": [
       "200"
      ]
     },
     "execution_count": 8,
     "metadata": {},
     "output_type": "execute_result"
    }
   ],
   "source": [
    "def double(num):\n",
    "    r=2*num\n",
    "    return r\n",
    "double(100)"
   ]
  },
  {
   "cell_type": "code",
   "execution_count": 9,
   "id": "8536238d",
   "metadata": {},
   "outputs": [
    {
     "name": "stdout",
     "output_type": "stream",
     "text": [
      "35\n",
      "70\n"
     ]
    }
   ],
   "source": [
    "for num in range(1,100):\n",
    "    if num%5==0 and num%7==0:\n",
    "        print(num)"
   ]
  },
  {
   "cell_type": "code",
   "execution_count": 10,
   "id": "6c8fb674",
   "metadata": {},
   "outputs": [
    {
     "name": "stdout",
     "output_type": "stream",
     "text": [
      "35\n",
      "70\n",
      "105\n",
      "140\n",
      "175\n"
     ]
    }
   ],
   "source": [
    "for num in range(1,200):\n",
    "    if num%5==0 and num%7==0:\n",
    "        print(num)"
   ]
  },
  {
   "cell_type": "code",
   "execution_count": 11,
   "id": "d7258c08",
   "metadata": {},
   "outputs": [
    {
     "name": "stdout",
     "output_type": "stream",
     "text": [
      "35\n",
      "70\n",
      "105\n",
      "140\n",
      "175\n",
      "210\n",
      "245\n",
      "280\n"
     ]
    }
   ],
   "source": [
    "for num in range(1,300):\n",
    "    if num%5==0 and num%7==0:\n",
    "        print(num)"
   ]
  },
  {
   "cell_type": "code",
   "execution_count": 12,
   "id": "7cf66f5a",
   "metadata": {},
   "outputs": [],
   "source": [
    "def num_5_7(i):\n",
    "    for num in range(1,i):\n",
    "        if num%5==0 and num%7==0:\n",
    "            print(num)"
   ]
  },
  {
   "cell_type": "code",
   "execution_count": 13,
   "id": "60a1cf44",
   "metadata": {},
   "outputs": [
    {
     "name": "stdout",
     "output_type": "stream",
     "text": [
      "35\n",
      "70\n"
     ]
    }
   ],
   "source": [
    "num_5_7(100)"
   ]
  },
  {
   "cell_type": "code",
   "execution_count": 14,
   "id": "cc1dc224",
   "metadata": {},
   "outputs": [
    {
     "name": "stdout",
     "output_type": "stream",
     "text": [
      "35\n",
      "70\n",
      "105\n",
      "140\n",
      "175\n"
     ]
    }
   ],
   "source": [
    "num_5_7(200)"
   ]
  },
  {
   "cell_type": "code",
   "execution_count": 15,
   "id": "afe5bfee",
   "metadata": {},
   "outputs": [],
   "source": [
    "def pre(x):\n",
    "    y=x+2\n",
    "    print(y)"
   ]
  },
  {
   "cell_type": "code",
   "execution_count": 16,
   "id": "b1d78e52",
   "metadata": {},
   "outputs": [
    {
     "name": "stdout",
     "output_type": "stream",
     "text": [
      "4\n"
     ]
    }
   ],
   "source": [
    "pre(2)"
   ]
  },
  {
   "cell_type": "code",
   "execution_count": 17,
   "id": "55d7d0a7",
   "metadata": {},
   "outputs": [
    {
     "name": "stdout",
     "output_type": "stream",
     "text": [
      "127\n"
     ]
    }
   ],
   "source": [
    "pre(125)"
   ]
  },
  {
   "cell_type": "code",
   "execution_count": 18,
   "id": "b204479a",
   "metadata": {},
   "outputs": [
    {
     "ename": "TypeError",
     "evalue": "can only concatenate str (not \"int\") to str",
     "output_type": "error",
     "traceback": [
      "\u001b[1;31m---------------------------------------------------------------------------\u001b[0m",
      "\u001b[1;31mTypeError\u001b[0m                                 Traceback (most recent call last)",
      "\u001b[1;32m~\\AppData\\Local\\Temp\\ipykernel_15164\\1117674141.py\u001b[0m in \u001b[0;36m<module>\u001b[1;34m\u001b[0m\n\u001b[1;32m----> 1\u001b[1;33m \u001b[0mpre\u001b[0m\u001b[1;33m(\u001b[0m\u001b[1;34m\"siva\"\u001b[0m\u001b[1;33m)\u001b[0m\u001b[1;33m\u001b[0m\u001b[1;33m\u001b[0m\u001b[0m\n\u001b[0m",
      "\u001b[1;32m~\\AppData\\Local\\Temp\\ipykernel_15164\\3034671477.py\u001b[0m in \u001b[0;36mpre\u001b[1;34m(x)\u001b[0m\n\u001b[0;32m      1\u001b[0m \u001b[1;32mdef\u001b[0m \u001b[0mpre\u001b[0m\u001b[1;33m(\u001b[0m\u001b[0mx\u001b[0m\u001b[1;33m)\u001b[0m\u001b[1;33m:\u001b[0m\u001b[1;33m\u001b[0m\u001b[1;33m\u001b[0m\u001b[0m\n\u001b[1;32m----> 2\u001b[1;33m     \u001b[0my\u001b[0m\u001b[1;33m=\u001b[0m\u001b[0mx\u001b[0m\u001b[1;33m+\u001b[0m\u001b[1;36m2\u001b[0m\u001b[1;33m\u001b[0m\u001b[1;33m\u001b[0m\u001b[0m\n\u001b[0m\u001b[0;32m      3\u001b[0m     \u001b[0mprint\u001b[0m\u001b[1;33m(\u001b[0m\u001b[0my\u001b[0m\u001b[1;33m)\u001b[0m\u001b[1;33m\u001b[0m\u001b[1;33m\u001b[0m\u001b[0m\n",
      "\u001b[1;31mTypeError\u001b[0m: can only concatenate str (not \"int\") to str"
     ]
    }
   ],
   "source": [
    "pre(\"siva\")"
   ]
  },
  {
   "cell_type": "code",
   "execution_count": 19,
   "id": "01eef1fe",
   "metadata": {},
   "outputs": [
    {
     "name": "stdout",
     "output_type": "stream",
     "text": [
      "10\n"
     ]
    }
   ],
   "source": [
    "a=[1,2,3,4]\n",
    "sum=0\n",
    "for num in a:\n",
    "    sum=sum+num\n",
    "print(sum)"
   ]
  },
  {
   "cell_type": "code",
   "execution_count": null,
   "id": "2b339897",
   "metadata": {},
   "outputs": [],
   "source": [
    "#Define the function"
   ]
  },
  {
   "cell_type": "code",
   "execution_count": 20,
   "id": "82f83777",
   "metadata": {},
   "outputs": [
    {
     "data": {
      "text/plain": [
       "10"
      ]
     },
     "execution_count": 20,
     "metadata": {},
     "output_type": "execute_result"
    }
   ],
   "source": [
    " def get_sum(a):\n",
    "        sum=0\n",
    "        for num in a:\n",
    "            sum=sum+num\n",
    "        return sum\n",
    "#Function call\n",
    "get_sum([1,2,3,4])"
   ]
  },
  {
   "cell_type": "code",
   "execution_count": 21,
   "id": "87196de4",
   "metadata": {},
   "outputs": [
    {
     "name": "stdout",
     "output_type": "stream",
     "text": [
      "70 21\n"
     ]
    }
   ],
   "source": [
    "lst=[8,7,5,2,10,50,9]\n",
    "\n",
    "even_sum=0\n",
    "\n",
    "odd_sum=0\n",
    "\n",
    "for i in lst:\n",
    "    if i%2==0:\n",
    "        even_sum=even_sum+i\n",
    "    else:\n",
    "        odd_sum=odd_sum+i\n",
    "        \n",
    "print(even_sum,odd_sum)"
   ]
  },
  {
   "cell_type": "code",
   "execution_count": 22,
   "id": "0a7203eb",
   "metadata": {},
   "outputs": [],
   "source": [
    "#Define the function\n",
    "def f_n(l):\n",
    "    even_sum=0\n",
    "    odd_sum=0\n",
    "    for i in l:\n",
    "        if i%2==0:\n",
    "            even_sum=even_sum+i\n",
    "        else:\n",
    "            odd_sum=odd_sum+i\n",
    "    print(even_sum,odd_sum)"
   ]
  },
  {
   "cell_type": "code",
   "execution_count": 23,
   "id": "f2d3b35d",
   "metadata": {},
   "outputs": [
    {
     "name": "stdout",
     "output_type": "stream",
     "text": [
      "70 21\n"
     ]
    }
   ],
   "source": [
    "f_n([8,7,5,2,10,50,9])"
   ]
  },
  {
   "cell_type": "markdown",
   "id": "42aab4e5",
   "metadata": {},
   "source": [
    "# Different forms of Arguments"
   ]
  },
  {
   "cell_type": "markdown",
   "id": "a188e61b",
   "metadata": {},
   "source": [
    "#Function with No Arguments"
   ]
  },
  {
   "cell_type": "code",
   "execution_count": 24,
   "id": "9b7bb1a5",
   "metadata": {},
   "outputs": [],
   "source": [
    "def even_num():\n",
    "    lb=int(input('enter lower bound values:'))\n",
    "    ub=int(input('enter upper bound values:'))\n",
    "    for i in range(lb,ub+1):\n",
    "        if i%2==0:\n",
    "            print(i)"
   ]
  },
  {
   "cell_type": "code",
   "execution_count": 25,
   "id": "4760d4f4",
   "metadata": {},
   "outputs": [
    {
     "name": "stdout",
     "output_type": "stream",
     "text": [
      "enter lower bound values:10\n",
      "enter upper bound values:20\n",
      "10\n",
      "12\n",
      "14\n",
      "16\n",
      "18\n",
      "20\n"
     ]
    }
   ],
   "source": [
    "even_num()"
   ]
  },
  {
   "cell_type": "markdown",
   "id": "72ce94ba",
   "metadata": {},
   "source": [
    "# 1.Positional Arguments"
   ]
  },
  {
   "cell_type": "code",
   "execution_count": 26,
   "id": "2d900451",
   "metadata": {},
   "outputs": [],
   "source": [
    "def greet(name,msg):\n",
    "    print(\"Hello\",name,msg)"
   ]
  },
  {
   "cell_type": "code",
   "execution_count": 27,
   "id": "1eff18e8",
   "metadata": {},
   "outputs": [
    {
     "name": "stdout",
     "output_type": "stream",
     "text": [
      "Hello good morning satish\n"
     ]
    }
   ],
   "source": [
    "#call the function with arguments\n",
    "greet(\"good morning\",\"satish\")"
   ]
  },
  {
   "cell_type": "code",
   "execution_count": 28,
   "id": "bd75d2f7",
   "metadata": {},
   "outputs": [
    {
     "ename": "TypeError",
     "evalue": "greet() missing 1 required positional argument: 'msg'",
     "output_type": "error",
     "traceback": [
      "\u001b[1;31m---------------------------------------------------------------------------\u001b[0m",
      "\u001b[1;31mTypeError\u001b[0m                                 Traceback (most recent call last)",
      "\u001b[1;32m~\\AppData\\Local\\Temp\\ipykernel_15164\\2048975349.py\u001b[0m in \u001b[0;36m<module>\u001b[1;34m\u001b[0m\n\u001b[0;32m      1\u001b[0m \u001b[1;31m#Suppose if we pass one arguments we will get an error\u001b[0m\u001b[1;33m\u001b[0m\u001b[1;33m\u001b[0m\u001b[0m\n\u001b[1;32m----> 2\u001b[1;33m \u001b[0mgreet\u001b[0m\u001b[1;33m(\u001b[0m\u001b[1;34m\"good morning\"\u001b[0m\u001b[1;33m)\u001b[0m\u001b[1;33m\u001b[0m\u001b[1;33m\u001b[0m\u001b[0m\n\u001b[0m",
      "\u001b[1;31mTypeError\u001b[0m: greet() missing 1 required positional argument: 'msg'"
     ]
    }
   ],
   "source": [
    "#Suppose if we pass one arguments we will get an error\n",
    "greet(\"good morning\")"
   ]
  },
  {
   "cell_type": "markdown",
   "id": "f2caccf5",
   "metadata": {},
   "source": [
    "# 2.Default Arguments"
   ]
  },
  {
   "cell_type": "code",
   "execution_count": null,
   "id": "ce4a7f76",
   "metadata": {},
   "outputs": [],
   "source": [
    "#Assignment arguments (=)"
   ]
  },
  {
   "cell_type": "code",
   "execution_count": 29,
   "id": "d35ce75a",
   "metadata": {},
   "outputs": [],
   "source": [
    "def greet(name,msg=\"Good Morining\"):\n",
    "    print(\"Hello\",name,msg)"
   ]
  },
  {
   "cell_type": "code",
   "execution_count": 31,
   "id": "315553c8",
   "metadata": {},
   "outputs": [
    {
     "name": "stdout",
     "output_type": "stream",
     "text": [
      "Hello satish Good Night\n"
     ]
    }
   ],
   "source": [
    "greet(\"satish\",\"Good Night\")"
   ]
  },
  {
   "cell_type": "code",
   "execution_count": 32,
   "id": "9353c504",
   "metadata": {},
   "outputs": [
    {
     "name": "stdout",
     "output_type": "stream",
     "text": [
      "Hello satish Good Morining\n"
     ]
    }
   ],
   "source": [
    "greet(\"satish\")"
   ]
  },
  {
   "cell_type": "markdown",
   "id": "eb983075",
   "metadata": {},
   "source": [
    "# 3.Keyword Arguments"
   ]
  },
  {
   "cell_type": "code",
   "execution_count": 33,
   "id": "61e3826e",
   "metadata": {},
   "outputs": [],
   "source": [
    "def greet(name,msg):\n",
    "    print(\"Hello\",name,msg)"
   ]
  },
  {
   "cell_type": "code",
   "execution_count": 34,
   "id": "8fd665be",
   "metadata": {},
   "outputs": [
    {
     "name": "stdout",
     "output_type": "stream",
     "text": [
      "Hello good morning satish\n"
     ]
    }
   ],
   "source": [
    "#call the function with arguments\n",
    "greet(msg=\"satish\",name=\"good morning\")"
   ]
  },
  {
   "cell_type": "code",
   "execution_count": 35,
   "id": "a69418de",
   "metadata": {},
   "outputs": [
    {
     "name": "stdout",
     "output_type": "stream",
     "text": [
      "Hello good Good Morning\n"
     ]
    }
   ],
   "source": [
    "greet(msg=\"Good Morning\",name=\"good\")"
   ]
  },
  {
   "cell_type": "markdown",
   "id": "cb2586ad",
   "metadata": {},
   "source": [
    "#Example:"
   ]
  },
  {
   "cell_type": "code",
   "execution_count": 36,
   "id": "e333a895",
   "metadata": {},
   "outputs": [
    {
     "name": "stdout",
     "output_type": "stream",
     "text": [
      "1 2 3\n"
     ]
    }
   ],
   "source": [
    "print(1,2,3) # \"sep\" acts as default argument"
   ]
  },
  {
   "cell_type": "code",
   "execution_count": 37,
   "id": "8e9fbc65",
   "metadata": {},
   "outputs": [
    {
     "name": "stdout",
     "output_type": "stream",
     "text": [
      "1,2,3\n"
     ]
    }
   ],
   "source": [
    "print(1,2,3,sep=\",\") #here \"sep\" its keyword arguments"
   ]
  },
  {
   "cell_type": "markdown",
   "id": "86b43717",
   "metadata": {},
   "source": [
    "# 4.Arguments Arguments"
   ]
  },
  {
   "cell_type": "code",
   "execution_count": 38,
   "id": "f6b1017b",
   "metadata": {},
   "outputs": [],
   "source": [
    "#We dont know how many arguments to pass."
   ]
  },
  {
   "cell_type": "code",
   "execution_count": 39,
   "id": "d76ae6d8",
   "metadata": {},
   "outputs": [],
   "source": [
    "def greet(*names):\n",
    "    for name in names:\n",
    "        print(\"Hello,{}\".format(name))"
   ]
  },
  {
   "cell_type": "code",
   "execution_count": 40,
   "id": "c140be6a",
   "metadata": {},
   "outputs": [
    {
     "name": "stdout",
     "output_type": "stream",
     "text": [
      "Hello,satish\n",
      "Hello,murali\n",
      "Hello,obarai\n",
      "Hello,vasanth\n"
     ]
    }
   ],
   "source": [
    "greet(\"satish\",\"murali\",\"obarai\",\"vasanth\")"
   ]
  },
  {
   "cell_type": "markdown",
   "id": "35541119",
   "metadata": {},
   "source": [
    "# Recurssive Function or Recurison"
   ]
  },
  {
   "cell_type": "markdown",
   "id": "93f724b6",
   "metadata": {},
   "source": [
    "#Function that calls itself."
   ]
  },
  {
   "cell_type": "code",
   "execution_count": 41,
   "id": "921f0d3b",
   "metadata": {},
   "outputs": [],
   "source": [
    "#Factorial  using recursion"
   ]
  },
  {
   "cell_type": "code",
   "execution_count": 42,
   "id": "709860e1",
   "metadata": {},
   "outputs": [],
   "source": [
    "def fact(num):\n",
    "    if num<=0:\n",
    "        return 1\n",
    "    else:\n",
    "        return num*fact(num-1)"
   ]
  },
  {
   "cell_type": "code",
   "execution_count": 43,
   "id": "c76dd6b1",
   "metadata": {},
   "outputs": [
    {
     "data": {
      "text/plain": [
       "120"
      ]
     },
     "execution_count": 43,
     "metadata": {},
     "output_type": "execute_result"
    }
   ],
   "source": [
    "fact(5)"
   ]
  },
  {
   "cell_type": "code",
   "execution_count": 44,
   "id": "8c77bb76",
   "metadata": {},
   "outputs": [
    {
     "data": {
      "text/plain": [
       "120"
      ]
     },
     "execution_count": 44,
     "metadata": {},
     "output_type": "execute_result"
    }
   ],
   "source": [
    "import math\n",
    "math.factorial(5)"
   ]
  },
  {
   "cell_type": "markdown",
   "id": "faae2175",
   "metadata": {},
   "source": [
    "# Python program to make a simple calculator that add,subtract,multiply,division"
   ]
  },
  {
   "cell_type": "code",
   "execution_count": 46,
   "id": "c631ca18",
   "metadata": {},
   "outputs": [
    {
     "name": "stdout",
     "output_type": "stream",
     "text": [
      "Select option\n",
      "1.Addition\n",
      "2.Subtraction\n",
      "3.Multiplication\n",
      "4.Division\n",
      "Enter choice 1/2/3/4: 1\n",
      "Enter first numbers: 10\n",
      "Enter second numbers: 20\n",
      "Addition of 10 and 20 is 30\n"
     ]
    }
   ],
   "source": [
    "def add(a,b):\n",
    "    return a+b\n",
    "\n",
    "def multiply(a,b):\n",
    "    return a*b\n",
    "\n",
    "def subtract(a,b):\n",
    "    return a-b\n",
    "\n",
    "def division(a,b):\n",
    "    return a/b\n",
    "\n",
    "print(\"Select option\")\n",
    "print(\"1.Addition\")\n",
    "print(\"2.Subtraction\")\n",
    "print(\"3.Multiplication\")\n",
    "print(\"4.Division\")\n",
    "\n",
    "#Take input from user\n",
    "choice=int(input(\"Enter choice 1/2/3/4: \"))\n",
    "\n",
    "num1=int(input(\"Enter first numbers: \"))\n",
    "num2=int(input(\"Enter second numbers: \"))\n",
    "if choice==1:\n",
    "    print(\"Addition of {} and {} is {}\".format(num1, num2, add(num1,num2)))\n",
    "elif choice==2:\n",
    "    print(\"Subtraction of {} and {} is {}\".format(num1, num2, subtract(num1,num2)))\n",
    "elif choice==3:\n",
    "    print(\"Multiplication of {} and {}  is {}\".format(num1, num2, multiply(num1,num2)))\n",
    "elif choice==4:\n",
    "    print(\"Division of {} and {} is {}\".format(num1, num2, division(num1,num2)))\n",
    "else:\n",
    "    print(\"Invalid Choice\") "
   ]
  },
  {
   "cell_type": "markdown",
   "id": "32c48689",
   "metadata": {},
   "source": [
    "# Lambda Function"
   ]
  },
  {
   "cell_type": "markdown",
   "id": "d56c1c75",
   "metadata": {},
   "source": [
    "#Anonymous Function work without name of function i,e single expression function"
   ]
  },
  {
   "cell_type": "code",
   "execution_count": 58,
   "id": "21ece42b",
   "metadata": {},
   "outputs": [
    {
     "name": "stdout",
     "output_type": "stream",
     "text": [
      "Even numbers: [20, 40, 60, 80, 100]\n"
     ]
    }
   ],
   "source": [
    "numbers=[11,20,31,40,51,60,71,80,91,100] \n",
    "def even(x):\n",
    "    return x%2==0\n",
    "even=list(filter(even,numbers))\n",
    "print(\"Even numbers:\",even)"
   ]
  },
  {
   "cell_type": "code",
   "execution_count": 64,
   "id": "9f1a45bc",
   "metadata": {},
   "outputs": [
    {
     "name": "stdout",
     "output_type": "stream",
     "text": [
      "Even numbers [20, 40, 60, 80, 100]\n"
     ]
    }
   ],
   "source": [
    "numbers=[11,20,31,40,51,60,71,80,91,100] \n",
    "even=list(filter(lambda x:x%2==0,numbers))\n",
    "print(\"Even numbers\",even)"
   ]
  },
  {
   "cell_type": "markdown",
   "id": "a7534df7",
   "metadata": {},
   "source": [
    "#Example 2:"
   ]
  },
  {
   "cell_type": "code",
   "execution_count": 70,
   "id": "3c181233",
   "metadata": {},
   "outputs": [
    {
     "name": "stdout",
     "output_type": "stream",
     "text": [
      "sorted words by length: ['Kota', 'Delhi', 'Jaipur', 'Chandigarh', 'Muzaffarpur']\n"
     ]
    }
   ],
   "source": [
    "#Sort By character wise\n",
    "city=['Jaipur','Kota','Chandigarh','Delhi','Muzaffarpur']\n",
    "\n",
    "def length(city):\n",
    "    return len(city)\n",
    "sort=sorted(city,key=length)\n",
    "print(\"sorted words by length:\",sort)"
   ]
  },
  {
   "cell_type": "code",
   "execution_count": 72,
   "id": "7f83f1dd",
   "metadata": {},
   "outputs": [
    {
     "name": "stdout",
     "output_type": "stream",
     "text": [
      "sorted words by length: ['Kota', 'Delhi', 'Jaipur', 'Chandigarh', 'Muzaffarpur']\n"
     ]
    }
   ],
   "source": [
    "city=['Jaipur','Kota','Chandigarh','Delhi','Muzaffarpur']\n",
    "sort=sorted(city,key=lambda x:len(x))\n",
    "print(\"sorted words by length:\",sort)\n"
   ]
  }
 ],
 "metadata": {
  "kernelspec": {
   "display_name": "Python 3 (ipykernel)",
   "language": "python",
   "name": "python3"
  },
  "language_info": {
   "codemirror_mode": {
    "name": "ipython",
    "version": 3
   },
   "file_extension": ".py",
   "mimetype": "text/x-python",
   "name": "python",
   "nbconvert_exporter": "python",
   "pygments_lexer": "ipython3",
   "version": "3.9.13"
  }
 },
 "nbformat": 4,
 "nbformat_minor": 5
}
