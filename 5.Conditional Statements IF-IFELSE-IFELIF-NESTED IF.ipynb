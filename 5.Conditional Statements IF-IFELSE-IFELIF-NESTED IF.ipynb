{
 "cells": [
  {
   "cell_type": "markdown",
   "id": "db3bfe8a",
   "metadata": {},
   "source": [
    "# CONDITIONAL STATEMENTS IN PYTHON"
   ]
  },
  {
   "cell_type": "markdown",
   "id": "b3412ced",
   "metadata": {},
   "source": [
    "# (IF, IF-ELSE, IF-ELIF, IF-ELIF-ELSE, NESTED IF) "
   ]
  },
  {
   "cell_type": "markdown",
   "id": "0aa380fa",
   "metadata": {},
   "source": [
    "# IF"
   ]
  },
  {
   "cell_type": "code",
   "execution_count": 1,
   "id": "14d5705e",
   "metadata": {},
   "outputs": [
    {
     "name": "stdout",
     "output_type": "stream",
     "text": [
      "Hi\n",
      "Welcome\n"
     ]
    }
   ],
   "source": [
    "if (1<2):\n",
    "    print('Hi')\n",
    "    print(\"Welcome\")"
   ]
  },
  {
   "cell_type": "code",
   "execution_count": 2,
   "id": "7e3a1a5d",
   "metadata": {},
   "outputs": [],
   "source": [
    "if (1>2):\n",
    "    print('Hi!')"
   ]
  },
  {
   "cell_type": "code",
   "execution_count": 3,
   "id": "b2a41743",
   "metadata": {},
   "outputs": [],
   "source": [
    "if (1>2):\n",
    "    print('Hi')\n",
    "    \n",
    "    print(\"Siva\")"
   ]
  },
  {
   "cell_type": "markdown",
   "id": "fb97118d",
   "metadata": {},
   "source": [
    "# If-else Syntax"
   ]
  },
  {
   "cell_type": "code",
   "execution_count": 4,
   "id": "cd8700ba",
   "metadata": {},
   "outputs": [
    {
     "name": "stdout",
     "output_type": "stream",
     "text": [
      "last\n"
     ]
    }
   ],
   "source": [
    "if (1>2):\n",
    "    print('first')\n",
    "else:\n",
    "    print('last')"
   ]
  },
  {
   "cell_type": "code",
   "execution_count": 5,
   "id": "fef75d98",
   "metadata": {},
   "outputs": [],
   "source": [
    "#WAP to divisible by 2 otherwise print \"odd\""
   ]
  },
  {
   "cell_type": "code",
   "execution_count": 6,
   "id": "e4dedaf0",
   "metadata": {},
   "outputs": [
    {
     "name": "stdout",
     "output_type": "stream",
     "text": [
      "enter a number16\n",
      "16 is even number\n"
     ]
    }
   ],
   "source": [
    "x=int(input('enter a number'))\n",
    "\n",
    "if(x%2==0):\n",
    "    print(x,'is even number')\n",
    "else:\n",
    "    print(x,'is odd number')"
   ]
  },
  {
   "cell_type": "code",
   "execution_count": 7,
   "id": "d625a2ba",
   "metadata": {},
   "outputs": [
    {
     "name": "stdout",
     "output_type": "stream",
     "text": [
      "abc\n"
     ]
    }
   ],
   "source": [
    "a,b,c,d=2,2,3,4\n",
    "\n",
    "if(a==b or c==d):\n",
    "    print(\"abc\")\n",
    "else:\n",
    "    print(\"def\")"
   ]
  },
  {
   "cell_type": "markdown",
   "id": "30b0fc20",
   "metadata": {},
   "source": [
    "# if-elif-else Syntax"
   ]
  },
  {
   "cell_type": "code",
   "execution_count": 8,
   "id": "dbe53ce5",
   "metadata": {},
   "outputs": [
    {
     "name": "stdout",
     "output_type": "stream",
     "text": [
      "middle\n"
     ]
    }
   ],
   "source": [
    "if 2!=2:\n",
    "    print('first')\n",
    "elif 3==3:\n",
    "    print('middle')"
   ]
  },
  {
   "cell_type": "code",
   "execution_count": 9,
   "id": "c3dd53f1",
   "metadata": {},
   "outputs": [
    {
     "name": "stdout",
     "output_type": "stream",
     "text": [
      "How did that happen?\n"
     ]
    }
   ],
   "source": [
    "if 1==1:\n",
    "    print(\"How did that happen?\")\n",
    "elif 1<3:\n",
    "    print(\"Yikes\")\n",
    "else:\n",
    "    print(\"All is well with the world\")"
   ]
  },
  {
   "cell_type": "code",
   "execution_count": 10,
   "id": "4812ab6f",
   "metadata": {},
   "outputs": [
    {
     "name": "stdout",
     "output_type": "stream",
     "text": [
      "enter the number92\n",
      "Grade A\n"
     ]
    }
   ],
   "source": [
    "y=int(input(\"enter the number\"))\n",
    "\n",
    "if y>90:\n",
    "    print(\"Grade A\")\n",
    "elif (y>60):\n",
    "    print(\"Grade B\")\n",
    "else:\n",
    "    print(\"Grade C\")"
   ]
  },
  {
   "cell_type": "code",
   "execution_count": 11,
   "id": "8826da61",
   "metadata": {},
   "outputs": [],
   "source": [
    "#wap to find the largest of given 2 numbers from input console"
   ]
  },
  {
   "cell_type": "code",
   "execution_count": 12,
   "id": "41bc5191",
   "metadata": {},
   "outputs": [
    {
     "name": "stdout",
     "output_type": "stream",
     "text": [
      "Enter First Number45\n",
      "Enter Second Number44\n",
      "Largest Number is 45\n"
     ]
    }
   ],
   "source": [
    "n1=int(input(\"Enter First Number\"))\n",
    "n2=int(input(\"Enter Second Number\"))\n",
    "if n1>n2:\n",
    "    print(\"Largest Number is\",n1)\n",
    "elif n1==n2:\n",
    "    print(\"Both are same\")\n",
    "else:\n",
    "    print(\"Largest Number is :\",n2)"
   ]
  },
  {
   "cell_type": "code",
   "execution_count": 13,
   "id": "8a85db45",
   "metadata": {},
   "outputs": [],
   "source": [
    "#wap to find the largest of given 3 numbers from input console"
   ]
  },
  {
   "cell_type": "code",
   "execution_count": 15,
   "id": "a26908cd",
   "metadata": {},
   "outputs": [
    {
     "name": "stdout",
     "output_type": "stream",
     "text": [
      "Enter First Number45\n",
      "Enter Second Number54\n",
      "Enter Third Number78\n",
      "78 is the Largest\n"
     ]
    }
   ],
   "source": [
    "n1=int(input(\"Enter First Number\"))\n",
    "n2=int(input(\"Enter Second Number\"))\n",
    "n3=int(input(\"Enter Third Number\"))\n",
    "if n1==n2==n2:\n",
    "    print(\"All the numbers are equal\")\n",
    "elif n1>n2 and n1>n3:\n",
    "    print(n1,\"is the Largest\")\n",
    "elif n2>n3:\n",
    "    print(n2,\"is the Largest\")\n",
    "else:\n",
    "    print(n3,\"is the Largest\")"
   ]
  },
  {
   "cell_type": "markdown",
   "id": "c1383ac9",
   "metadata": {},
   "source": [
    "# Nested If Statement"
   ]
  },
  {
   "cell_type": "code",
   "execution_count": 22,
   "id": "e57d1d06",
   "metadata": {},
   "outputs": [
    {
     "name": "stdout",
     "output_type": "stream",
     "text": [
      "Negative Number\n"
     ]
    }
   ],
   "source": [
    "num=-20\n",
    "\n",
    "if num>=0:\n",
    "    if num==0:\n",
    "        print(\"zero\")\n",
    "    else:\n",
    "        print(\"Positive Number\")\n",
    "else:\n",
    "    print(\"Negative Number\")"
   ]
  },
  {
   "cell_type": "code",
   "execution_count": 23,
   "id": "ba49cc35",
   "metadata": {},
   "outputs": [],
   "source": [
    "#Wap on bank transaction using consitional statement."
   ]
  },
  {
   "cell_type": "code",
   "execution_count": 28,
   "id": "2343a3bc",
   "metadata": {},
   "outputs": [
    {
     "name": "stdout",
     "output_type": "stream",
     "text": [
      "Enter your pin1234\n",
      "with draw amount10000\n",
      "10000 successfully transaction completed\n"
     ]
    }
   ],
   "source": [
    "amount=20000\n",
    "pin=1234\n",
    "\n",
    "if(int(input('Enter your pin'))==pin):\n",
    "    with_draw=int(input('with draw amount'))\n",
    "    if(with_draw<=amount):\n",
    "               print(with_draw,'successfully transaction completed')\n",
    "    else:\n",
    "               print(with_draw,'Not sufficiant funds in your account')\n",
    "else:\n",
    "               print('invalid pin number')\n",
    "        "
   ]
  },
  {
   "cell_type": "code",
   "execution_count": null,
   "id": "63462087",
   "metadata": {},
   "outputs": [],
   "source": []
  }
 ],
 "metadata": {
  "kernelspec": {
   "display_name": "Python 3 (ipykernel)",
   "language": "python",
   "name": "python3"
  },
  "language_info": {
   "codemirror_mode": {
    "name": "ipython",
    "version": 3
   },
   "file_extension": ".py",
   "mimetype": "text/x-python",
   "name": "python",
   "nbconvert_exporter": "python",
   "pygments_lexer": "ipython3",
   "version": "3.9.13"
  }
 },
 "nbformat": 4,
 "nbformat_minor": 5
}
